{
  "nbformat": 4,
  "nbformat_minor": 0,
  "metadata": {
    "colab": {
      "provenance": []
    },
    "kernelspec": {
      "name": "python3",
      "display_name": "Python 3"
    },
    "language_info": {
      "name": "python"
    }
  },
  "cells": [
    {
      "cell_type": "code",
      "metadata": {
        "id": "WExqyhpfWHkD"
      },
      "source": [
        "import pandas as pd\n",
        "import numpy as np\n",
        "import sys\n",
        "import nltk\n",
        "import matplotlib.pyplot as plt\n",
        "from sklearn.feature_extraction.text import TfidfVectorizer\n",
        "from sklearn.feature_selection import chi2\n",
        "from nltk.tokenize import word_tokenize\n",
        "from sklearn.model_selection import train_test_split\n",
        "from sklearn.feature_extraction.text import CountVectorizer\n",
        "from sklearn.feature_extraction.text import TfidfTransformer\n",
        "from sklearn.naive_bayes import MultinomialNB\n",
        "from sklearn.linear_model import LogisticRegression\n",
        "from sklearn.ensemble import RandomForestClassifier\n",
        "from sklearn.svm import LinearSVC\n",
        "from sklearn.model_selection import cross_val_score"
      ],
      "execution_count": null,
      "outputs": []
    },
    {
      "cell_type": "code",
      "metadata": {
        "id": "i-kUTTi7u38d",
        "colab": {
          "base_uri": "https://localhost:8080/"
        },
        "outputId": "7e86e807-df77-4718-84dd-5f3478e1a931"
      },
      "source": [
        "\n",
        "nltk.download('punkt')"
      ],
      "execution_count": null,
      "outputs": [
        {
          "output_type": "stream",
          "name": "stdout",
          "text": [
            "[nltk_data] Downloading package punkt to /root/nltk_data...\n",
            "[nltk_data]   Unzipping tokenizers/punkt.zip.\n"
          ]
        },
        {
          "output_type": "execute_result",
          "data": {
            "text/plain": [
              "True"
            ]
          },
          "metadata": {},
          "execution_count": 2
        }
      ]
    },
    {
      "cell_type": "code",
      "metadata": {
        "id": "HBXf7PpZNb3l"
      },
      "source": [
        "def read_data(path):\n",
        "    '''\n",
        "    gets path of text file and returns 3 lists as below:\n",
        "    sentences = [[w11,...,w1m], ..., [wn1,...,wnk]]\n",
        "    slots = [[s11,...,s1m], ..., [sn1,...snk]]\n",
        "    labels = [l1, ..., ln]\n",
        "    '''\n",
        "    sentences = []\n",
        "    slots = []\n",
        "    labels = []\n",
        "    \n",
        "    sentence = []\n",
        "    slot = []\n",
        "\n",
        "    file = open(path, 'r', encoding='utf8')\n",
        "\n",
        "    while True:\n",
        "        line = file.readline()\n",
        "        if not line:\n",
        "            sentences.append(sentence)\n",
        "            slots.append(slot)\n",
        "            return sentences, slots, labels\n",
        "        else:\n",
        "            token, tag = line.split()\n",
        "\n",
        "            if token == '#':\n",
        "                if not sentence:\n",
        "                    labels.append(tag)\n",
        "                else:\n",
        "                    sentences.append(sentence)\n",
        "                    sentence = []\n",
        "                    slots.append(slot)\n",
        "                    slot = []\n",
        "                    labels.append(tag)\n",
        "            else:\n",
        "                sentence.append(token)\n",
        "                slot.append(tag)"
      ],
      "execution_count": null,
      "outputs": []
    },
    {
      "cell_type": "code",
      "metadata": {
        "id": "98pf_lzqWi1U"
      },
      "source": [
        "df = pd.read_excel('dataset.xlsx')"
      ],
      "execution_count": null,
      "outputs": []
    },
    {
      "cell_type": "code",
      "metadata": {
        "id": "I3mEAM7JNf4O"
      },
      "source": [
        "sentences, slots, labels = read_data('data.txt')"
      ],
      "execution_count": null,
      "outputs": []
    },
    {
      "cell_type": "code",
      "metadata": {
        "id": "RYFWQd3bNjKK"
      },
      "source": [
        "df = pd.DataFrame({'text': [' '.join(s) for s in sentences],\n",
        "                   'slots': [' '.join(s) for s in slots],\n",
        "                   'label': labels})"
      ],
      "execution_count": null,
      "outputs": []
    },
    {
      "cell_type": "code",
      "metadata": {
        "colab": {
          "base_uri": "https://localhost:8080/",
          "height": 204
        },
        "id": "f-jT9p6BWtsS",
        "outputId": "30e5c8d9-d8b0-4ddf-f3da-b16f84efbbe5"
      },
      "source": [
        "df.tail()"
      ],
      "execution_count": null,
      "outputs": [
        {
          "output_type": "execute_result",
          "data": {
            "text/html": [
              "<div>\n",
              "<style scoped>\n",
              "    .dataframe tbody tr th:only-of-type {\n",
              "        vertical-align: middle;\n",
              "    }\n",
              "\n",
              "    .dataframe tbody tr th {\n",
              "        vertical-align: top;\n",
              "    }\n",
              "\n",
              "    .dataframe thead th {\n",
              "        text-align: right;\n",
              "    }\n",
              "</style>\n",
              "<table border=\"1\" class=\"dataframe\">\n",
              "  <thead>\n",
              "    <tr style=\"text-align: right;\">\n",
              "      <th></th>\n",
              "      <th>text</th>\n",
              "      <th>slots</th>\n",
              "      <th>label</th>\n",
              "    </tr>\n",
              "  </thead>\n",
              "  <tbody>\n",
              "    <tr>\n",
              "      <th>253</th>\n",
              "      <td>جوی خیابان گلستان جنوبی بالا تر از میدان معلم ...</td>\n",
              "      <td>O O B-addr_street I-addr_street O O O B-addr_s...</td>\n",
              "      <td>liaroobi</td>\n",
              "    </tr>\n",
              "    <tr>\n",
              "      <th>254</th>\n",
              "      <td>سلام . خسته نباشید . جوی آب کوچه ی مرادی خیابا...</td>\n",
              "      <td>O O O O O O O O O B-addr_alley O B-addr_street...</td>\n",
              "      <td>liaroobi</td>\n",
              "    </tr>\n",
              "    <tr>\n",
              "      <th>255</th>\n",
              "      <td>سلام . زباله های کوچه مینو پایینتر میدان ولیعص...</td>\n",
              "      <td>O O O O O B-addr_alley O O B-addr_square O O O...</td>\n",
              "      <td>liaroobi</td>\n",
              "    </tr>\n",
              "    <tr>\n",
              "      <th>256</th>\n",
              "      <td>سلام ما خیابان محلاتی نرسیده به اتوبان امام عل...</td>\n",
              "      <td>O O O B-addr_street O O O B-addr_highway I-add...</td>\n",
              "      <td>liaroobi</td>\n",
              "    </tr>\n",
              "    <tr>\n",
              "      <th>257</th>\n",
              "      <td>سلام . لطفا جوی آب رو قبل فصل بارندگی لایروبی ...</td>\n",
              "      <td>O O O O O O O O O O O O O O O O O O O O B-addr...</td>\n",
              "      <td>liaroobi</td>\n",
              "    </tr>\n",
              "  </tbody>\n",
              "</table>\n",
              "</div>"
            ],
            "text/plain": [
              "                                                  text  ...     label\n",
              "253  جوی خیابان گلستان جنوبی بالا تر از میدان معلم ...  ...  liaroobi\n",
              "254  سلام . خسته نباشید . جوی آب کوچه ی مرادی خیابا...  ...  liaroobi\n",
              "255  سلام . زباله های کوچه مینو پایینتر میدان ولیعص...  ...  liaroobi\n",
              "256  سلام ما خیابان محلاتی نرسیده به اتوبان امام عل...  ...  liaroobi\n",
              "257  سلام . لطفا جوی آب رو قبل فصل بارندگی لایروبی ...  ...  liaroobi\n",
              "\n",
              "[5 rows x 3 columns]"
            ]
          },
          "metadata": {},
          "execution_count": 7
        }
      ]
    },
    {
      "cell_type": "code",
      "metadata": {
        "colab": {
          "base_uri": "https://localhost:8080/",
          "height": 35
        },
        "id": "1pkfvecpNmvc",
        "outputId": "3436d696-a42a-4819-9cd2-99c893821398"
      },
      "source": [
        "df.loc[0]['text']"
      ],
      "execution_count": null,
      "outputs": [
        {
          "output_type": "execute_result",
          "data": {
            "application/vnd.google.colaboratory.intrinsic+json": {
              "type": "string"
            },
            "text/plain": [
              "'سلام آقا خسته نباشید وقت به خیر ما محله دریان نو خیابون چهارم کوچه محمودی منطقه ۲ هستیم یکی از جوب های این محله گرفته و بوی بدی هم گرفته لطف کنید برای این گرفتگی این جوب اقدام کنید ممنون'"
            ]
          },
          "metadata": {},
          "execution_count": 8
        }
      ]
    },
    {
      "cell_type": "code",
      "metadata": {
        "id": "h5CjILbWNwzD",
        "colab": {
          "base_uri": "https://localhost:8080/",
          "height": 35
        },
        "outputId": "f50d34df-291c-4845-dee2-e97a334ba421"
      },
      "source": [
        "df.loc[0]['slots']"
      ],
      "execution_count": null,
      "outputs": [
        {
          "output_type": "execute_result",
          "data": {
            "application/vnd.google.colaboratory.intrinsic+json": {
              "type": "string"
            },
            "text/plain": [
              "'O O O O O O O O O B-addr_neighbourhood I-addr_neighbourhood O B-addr_street O B-addr_alley O B-addr_district O O O O O O O O O O O O O O O O O O O O O O O'"
            ]
          },
          "metadata": {},
          "execution_count": 9
        }
      ]
    },
    {
      "cell_type": "code",
      "metadata": {
        "colab": {
          "base_uri": "https://localhost:8080/"
        },
        "id": "vdcBFSI7Z0uP",
        "outputId": "bfc3cdca-bb51-45ef-c282-55c819e4bd14"
      },
      "source": [
        "len(df.text)"
      ],
      "execution_count": null,
      "outputs": [
        {
          "output_type": "execute_result",
          "data": {
            "text/plain": [
              "258"
            ]
          },
          "metadata": {},
          "execution_count": 10
        }
      ]
    },
    {
      "cell_type": "code",
      "metadata": {
        "id": "cHXUOyJtYFzf"
      },
      "source": [
        "df['category_id'] = df['label'].factorize()[0]\n",
        "category_id_df = df[['label', 'category_id']].drop_duplicates().sort_values('category_id')\n",
        "category_to_id = dict(category_id_df.values)\n",
        "id_to_category = dict(category_id_df[['category_id', 'label']].values)"
      ],
      "execution_count": null,
      "outputs": []
    },
    {
      "cell_type": "code",
      "metadata": {
        "colab": {
          "base_uri": "https://localhost:8080/",
          "height": 142
        },
        "id": "7_KjldhhZa79",
        "outputId": "6a3df4a5-e7e4-4fd4-fc93-5510519e8ef4"
      },
      "source": [
        "category_id_df"
      ],
      "execution_count": null,
      "outputs": [
        {
          "output_type": "execute_result",
          "data": {
            "text/html": [
              "<div>\n",
              "<style scoped>\n",
              "    .dataframe tbody tr th:only-of-type {\n",
              "        vertical-align: middle;\n",
              "    }\n",
              "\n",
              "    .dataframe tbody tr th {\n",
              "        vertical-align: top;\n",
              "    }\n",
              "\n",
              "    .dataframe thead th {\n",
              "        text-align: right;\n",
              "    }\n",
              "</style>\n",
              "<table border=\"1\" class=\"dataframe\">\n",
              "  <thead>\n",
              "    <tr style=\"text-align: right;\">\n",
              "      <th></th>\n",
              "      <th>label</th>\n",
              "      <th>category_id</th>\n",
              "    </tr>\n",
              "  </thead>\n",
              "  <tbody>\n",
              "    <tr>\n",
              "      <th>0</th>\n",
              "      <td>liaroobi</td>\n",
              "      <td>0</td>\n",
              "    </tr>\n",
              "    <tr>\n",
              "      <th>30</th>\n",
              "      <td>nezafat</td>\n",
              "      <td>1</td>\n",
              "    </tr>\n",
              "    <tr>\n",
              "      <th>60</th>\n",
              "      <td>terekidegi</td>\n",
              "      <td>2</td>\n",
              "    </tr>\n",
              "  </tbody>\n",
              "</table>\n",
              "</div>"
            ],
            "text/plain": [
              "         label  category_id\n",
              "0     liaroobi            0\n",
              "30     nezafat            1\n",
              "60  terekidegi            2"
            ]
          },
          "metadata": {},
          "execution_count": 12
        }
      ]
    },
    {
      "cell_type": "code",
      "metadata": {
        "colab": {
          "base_uri": "https://localhost:8080/"
        },
        "id": "B3JeRjhgaCVr",
        "outputId": "1e80bf38-1002-48e7-aba4-ddebb0eec0ac"
      },
      "source": [
        "category_to_id"
      ],
      "execution_count": null,
      "outputs": [
        {
          "output_type": "execute_result",
          "data": {
            "text/plain": [
              "{'liaroobi': 0, 'nezafat': 1, 'terekidegi': 2}"
            ]
          },
          "metadata": {},
          "execution_count": 13
        }
      ]
    },
    {
      "cell_type": "code",
      "metadata": {
        "colab": {
          "base_uri": "https://localhost:8080/",
          "height": 320
        },
        "id": "mPAYCL0TZ64M",
        "outputId": "537ce49c-29c1-4c85-bf53-f4c02ec2f865"
      },
      "source": [
        "fig = plt.figure()\n",
        "df.groupby('label').text.count().plot.bar(ylim=0)\n",
        "plt.show()"
      ],
      "execution_count": null,
      "outputs": [
        {
          "output_type": "display_data",
          "data": {
            "image/png": "[encoded data removed]",
            "text/plain": [
              "<Figure size 432x288 with 1 Axes>"
            ]
          },
          "metadata": {
            "needs_background": "light"
          }
        }
      ]
    },
    {
      "cell_type": "markdown",
      "metadata": {
        "id": "Jx9mIAPra9nM"
      },
      "source": [
        "# Text Representation"
      ]
    },
    {
      "cell_type": "code",
      "metadata": {
        "id": "pzygUyIDs43v"
      },
      "source": [
        "# stopwords list in Farsi\n",
        "stop_words =[  \"آباد\",\"آره\",\"آری\",\"آمد\",\"آمده\",\"آن\",\"آنان\",\"آنجا\",\"آنكه\",\"آنها\",\"آنچه\",\"آورد\",\"این\",\n",
        "             \"یه\", \"رو\", \"توی\", \"دیگه\", \"اگه\", \"یکی\", \"داره\",\n",
        "  \"آورده\",\"آيد\",\"آیا\",\"اثرِ\",\"از\",\"است\",\"استفاده\",\"اش\",\"اكنون\",\"البته\",\"البتّه\",\"ام\",\n",
        "  \"اما\",\"امروز\",\"امسال\",\"اند\",\"انکه\",\"او\",\"اول\",\"اي\",\"ايشان\",\"ايم\",\"اين\",\"اينكه\",\"اگر\",\n",
        "  \"با\",\"بار\",\"بارة\",\"باره\",\"باشد\",\"باشند\",\"باشيم\",\"بالا\",\"بالایِ\",\"بايد\",\"بدون\",\"بر\",\"برابرِ\",\n",
        "  \"براساس\",\"براي\",\"برای\",\"برخوردار\",\"برخي\",\"برداري\",\"بروز\",\"بسيار\",\"بسياري\",\"بعد\",\"بعری\",\"بعضي\",\n",
        "  \"بلكه\",\"بله\",\"بلکه\",\"بلی\",\"بنابراين\",\"بندي\",\"به\",\"بهترين\",\"بود\",\"بودن\",\"بودند\",\"بوده\",\"بي\",\"بيست\",\n",
        "  \"بيش\",\"بيشتر\",\"بيشتري\",\"بين\",\"بی\",\"بیرونِ\",\"تا\",\"تازه\",\"تاكنون\",\"تان\",\"تحت\",\"تر\",\"ترين\",\"تمام\",\n",
        "  \"تمامي\",\"تنها\",\"تواند\",\"توانند\",\"توسط\",\"تولِ\",\"تویِ\",\"جا\",\"جاي\",\"جايي\",\"جدا\",\"جديد\",\"جريان\",\"جز\",\n",
        "  \"جلوگيري\",\"جلویِ\",\"حتي\",\"حدودِ\",\"حق\",\"خارجِ\",\"خدمات\",\"خواست\",\"خواهد\",\"خواهند\",\"خواهيم\",\"خود\",\"خويش\",\n",
        "  \"خیاه\",\"داد\",\"دادن\",\"دادند\",\"داده\",\"دارد\",\"دارند\",\"داريم\",\"داشت\",\"داشتن\",\"داشتند\",\"داشته\",\"دانست\",\n",
        "  \"دانند\",\"در\",\"درباره\",\"دنبالِ\",\"ده\",\"دهد\",\"دهند\",\"دو\",\"دوم\",\"ديده\",\"ديروز\",\"ديگر\",\"ديگران\",\"ديگري\",\n",
        "  \"دیگر\",\"را\",\"راه\",\"رفت\",\"رفته\",\"روب\",\"روزهاي\",\"روي\",\"رویِ\",\"ريزي\",\"زياد\",\"زير\",\"زيرا\",\"زیرِ\",\"سابق\",\n",
        "  \"ساخته\",\"سازي\",\"سراسر\",\"سریِ\",\"سعي\",\"سمتِ\",\"سوم\",\"سوي\",\"سویِ\",\"سپس\",\"شان\",\"شايد\",\"شد\",\"شدن\",\"شدند\",\n",
        "  \"شده\",\"شش\",\"شما\",\"شناسي\",\"شود\",\"شوند\",\"صورت\",\"ضدِّ\",\"ضمن\",\"طبقِ\",\"طريق\",\"طور\",\"طي\",\"عقبِ\",\"علّتِ\",\n",
        "  \"عنوانِ\",\"غير\",\"فقط\",\"فكر\",\"فوق\",\"قابل\",\"قبل\",\"قصدِ\",\"كرد\",\"كردم\",\"كردن\",\"كردند\",\"كرده\",\"كسي\",\"كل\",\n",
        "  \"كمتر\",\"كند\",\"كنم\",\"كنند\",\"كنيد\",\"كنيم\",\"كه\",\"لطفاً\",\"ما\",\"مان\",\"مانند\",\"مانندِ\",\"مثل\",\"مثلِ\",\"مختلف\",\n",
        "  \"مدّتی\",\"مردم\",\"مرسی\",\"مقابل\",\"من\",\"مورد\",\"مي\",\"ميليارد\",\"ميليون\",\"مگر\",\"ناشي\",\"نام\",\"نبايد\",\"نبود\",\n",
        "  \"نخست\",\"نخستين\",\"نخواهد\",\"ندارد\",\"ندارند\",\"نداشته\",\"نزديك\",\"نزدِ\",\"نزدیکِ\",\"نشان\",\"نشده\",\"نظير\",\"نكرده\",\n",
        "  \"نمايد\",\"نمي\",\"نه\",\"نوعي\",\"نيز\",\"نيست\",\"ها\",\"هاي\",\"هايي\",\"هر\",\"هرگز\",\"هزار\",\"هست\",\"هستند\",\"هستيم\",\"هفت\",\n",
        "  \"هم\",\"همان\",\"همه\",\"همواره\",\"همين\",\"همچنان\",\"همچنين\",\"همچون\",\"همین\",\"هنوز\",\"هنگام\",\"هنگامِ\",\"هنگامی\",\"هيچ\",\n",
        "  \"هیچ\",\"و\",\"وسطِ\",\"وقتي\",\"وقتیکه\",\"ولی\",\"وي\",\"وگو\",\"يا\",\"يابد\",\"يك\",\"يكديگر\",\"يكي\",\"ّه\",\"پاعینِ\",\"پس\",\"پنج\",\n",
        "  \"پيش\",\"پیش\",\"پیشِ\",\"چرا\",\"چطور\",\"چند\",\"چندین\",\"چنين\",\"چه\",\"چهار\",\"چون\",\"چيزي\",\"چگونه\",\"چیز\",\"چیزی\",\"چیست\",\n",
        "  \"کجا\",\"کجاست\",\"کدام\",\"کس\",\"کسی\",\"کنارِ\",\"که\",\"کَی\",\"کی\",\"گذاري\",\"گذاشته\",\"گردد\",\"گرفت\",\"گرفته\",\"گروهي\",\"گفت\",\n",
        "  \"گفته\",\"گويد\",\"گويند\",\"گيرد\",\"گيري\",\"یا\",\"یک\", '؟', '!', '٪', '.', '،', '؛', ':', ';', ',']"
      ],
      "execution_count": null,
      "outputs": []
    },
    {
      "cell_type": "code",
      "metadata": {
        "id": "LZaRlBl1wJXp"
      },
      "source": [
        "df['cleaned_text'] = ''"
      ],
      "execution_count": null,
      "outputs": []
    },
    {
      "cell_type": "code",
      "metadata": {
        "colab": {
          "base_uri": "https://localhost:8080/"
        },
        "id": "gGzXhP8ss7iE",
        "outputId": "52642967-167d-412b-b7f3-6c9ceac93253"
      },
      "source": [
        "for index in range(len(df.text)):\n",
        "  result = \"\"\n",
        "  for word in word_tokenize(df.text[index]):\n",
        "    if word not in stop_words:\n",
        "      result = result + \" \" + word\n",
        "  df.cleaned_text[index] = result"
      ],
      "execution_count": null,
      "outputs": [
        {
          "output_type": "stream",
          "name": "stderr",
          "text": [
            "/usr/local/lib/python3.7/dist-packages/ipykernel_launcher.py:6: SettingWithCopyWarning: \n",
            "A value is trying to be set on a copy of a slice from a DataFrame\n",
            "\n",
            "See the caveats in the documentation: https://pandas.pydata.org/pandas-docs/stable/user_guide/indexing.html#returning-a-view-versus-a-copy\n",
            "  \n"
          ]
        }
      ]
    },
    {
      "cell_type": "code",
      "metadata": {
        "colab": {
          "base_uri": "https://localhost:8080/"
        },
        "id": "xtL6gc3Ub5_0",
        "outputId": "ed1ccd4f-7545-48fd-8736-630ecbf47574"
      },
      "source": [
        "tfidf = TfidfVectorizer(sublinear_tf=True, min_df=5, norm='l2',  ngram_range=(1, 2))\n",
        "features = tfidf.fit_transform(df.cleaned_text).toarray()\n",
        "labels = df.category_id\n",
        "features.shape"
      ],
      "execution_count": null,
      "outputs": [
        {
          "output_type": "execute_result",
          "data": {
            "text/plain": [
              "(258, 424)"
            ]
          },
          "metadata": {},
          "execution_count": 18
        }
      ]
    },
    {
      "cell_type": "markdown",
      "metadata": {
        "id": "-BeoPDhpa2Fh"
      },
      "source": [
        "# Terms that are the most correlated"
      ]
    },
    {
      "cell_type": "code",
      "metadata": {
        "colab": {
          "base_uri": "https://localhost:8080/"
        },
        "id": "f1RCiCWZrvdZ",
        "outputId": "13bb597d-612e-477c-a952-f4a1a9d3eb63"
      },
      "source": [
        "N = 2\n",
        "for label, category_id in sorted(category_to_id.items()):\n",
        "  features_chi2 = chi2(features, labels == category_id)\n",
        "  indices = np.argsort(features_chi2[0])\n",
        "  feature_names = np.array(tfidf.get_feature_names())[indices]\n",
        "  unigrams = [v for v in feature_names if len(v.split(' ')) == 1]\n",
        "  bigrams = [v for v in feature_names if len(v.split(' ')) == 2]\n",
        "  print(\"# '{}':\".format(label))\n",
        "  print(\"  . Most correlated unigrams:\\n. {}\".format('\\n. '.join(unigrams[-N:])))\n",
        "  print(\"  . Most correlated bigrams:\\n. {}\".format('\\n. '.join(bigrams[-N:])))"
      ],
      "execution_count": null,
      "outputs": [
        {
          "output_type": "stream",
          "name": "stdout",
          "text": [
            "# 'liaroobi':\n",
            "  . Most correlated unigrams:\n",
            ". جوب\n",
            ". جوی\n",
            "  . Most correlated bigrams:\n",
            ". بوی بدی\n",
            ". جوی آب\n",
            "# 'nezafat':\n",
            "  . Most correlated unigrams:\n",
            ". آب\n",
            ". نظافت\n",
            "  . Most correlated bigrams:\n",
            ". جمع آوری\n",
            ". نظافت کوچه\n",
            "# 'terekidegi':\n",
            "  . Most correlated unigrams:\n",
            ". ترکیده\n",
            ". لوله\n",
            "  . Most correlated bigrams:\n",
            ". ترکیده آب\n",
            ". آب هدر\n"
          ]
        }
      ]
    },
    {
      "cell_type": "markdown",
      "metadata": {
        "id": "Kl4Q2l4D_I4c"
      },
      "source": [
        "# Model Selection"
      ]
    },
    {
      "cell_type": "code",
      "metadata": {
        "id": "CS7JM14M4myf"
      },
      "source": [
        "models = [\n",
        "    RandomForestClassifier(n_estimators=200, max_depth=3, random_state=0),\n",
        "    LinearSVC(),\n",
        "    MultinomialNB(),\n",
        "    LogisticRegression(random_state=0),\n",
        "]"
      ],
      "execution_count": null,
      "outputs": []
    },
    {
      "cell_type": "code",
      "metadata": {
        "id": "5qC4Iozw4q4n"
      },
      "source": [
        "CV = 5\n",
        "cv_df = pd.DataFrame(index=range(CV * len(models)))\n",
        "entries = []\n",
        "for model in models:\n",
        "  model_name = model.__class__.__name__\n",
        "  accuracies = cross_val_score(model, features, labels, scoring='accuracy', cv=CV)\n",
        "  for fold_idx, accuracy in enumerate(accuracies):\n",
        "    entries.append((model_name, fold_idx, accuracy))\n",
        "cv_df = pd.DataFrame(entries, columns=['model_name', 'fold_idx', 'accuracy'])"
      ],
      "execution_count": null,
      "outputs": []
    },
    {
      "cell_type": "code",
      "metadata": {
        "colab": {
          "base_uri": "https://localhost:8080/",
          "height": 280
        },
        "id": "0Bp4if4l5HO4",
        "outputId": "b4dfb64a-6267-49cf-80c0-d9de1b561e58"
      },
      "source": [
        "import seaborn as sns\n",
        "sns.boxplot(x='model_name', y='accuracy', data=cv_df)\n",
        "sns.stripplot(x='model_name', y='accuracy', data=cv_df, \n",
        "              size=8, jitter=True, edgecolor=\"gray\", linewidth=2)\n",
        "plt.show()"
      ],
      "execution_count": null,
      "outputs": [
        {
          "output_type": "display_data",
          "data": {
            "image/png": "[encoded data removed]",
            "text/plain": [
              "<Figure size 432x288 with 1 Axes>"
            ]
          },
          "metadata": {
            "needs_background": "light"
          }
        }
      ]
    },
    {
      "cell_type": "code",
      "metadata": {
        "colab": {
          "base_uri": "https://localhost:8080/"
        },
        "id": "xVkaeRD35PJx",
        "outputId": "4b00735b-c007-4a59-9445-696dac77e959"
      },
      "source": [
        "cv_df.groupby('model_name').accuracy.mean()"
      ],
      "execution_count": null,
      "outputs": [
        {
          "output_type": "execute_result",
          "data": {
            "text/plain": [
              "model_name\n",
              "LinearSVC                 0.949246\n",
              "LogisticRegression        0.953092\n",
              "MultinomialNB             0.922247\n",
              "RandomForestClassifier    0.934012\n",
              "Name: accuracy, dtype: float64"
            ]
          },
          "metadata": {},
          "execution_count": 23
        }
      ]
    },
    {
      "cell_type": "markdown",
      "metadata": {
        "id": "-nxPzpJe_A-r"
      },
      "source": [
        "# Model Evaluation\n",
        "Continue with the  model: LogisticRegression        "
      ]
    },
    {
      "cell_type": "code",
      "metadata": {
        "colab": {
          "base_uri": "https://localhost:8080/",
          "height": 606
        },
        "id": "vwkEdfnB5qbA",
        "outputId": "2f277a98-0611-4dc8-c039-d7f8efb4d3c8"
      },
      "source": [
        "model = LogisticRegression()\n",
        "X_train, X_test, y_train, y_test, indices_train, indices_test = train_test_split(features, labels, df.index, test_size=0.33, random_state=0)\n",
        "model.fit(X_train, y_train)\n",
        "y_pred = model.predict(X_test)\n",
        "\n",
        "from sklearn.metrics import confusion_matrix\n",
        "conf_mat = confusion_matrix(y_test, y_pred)\n",
        "fig, ax = plt.subplots(figsize=(10,10))\n",
        "sns.heatmap(conf_mat, annot=True, fmt='d',\n",
        "            xticklabels=category_id_df.label.values, yticklabels=category_id_df.label.values)\n",
        "plt.ylabel('Actual')\n",
        "plt.xlabel('Predicted')\n",
        "plt.show()"
      ],
      "execution_count": null,
      "outputs": [
        {
          "output_type": "display_data",
          "data": {
            "image/png": "[encoded data removed]",
            "text/plain": [
              "<Figure size 720x720 with 2 Axes>"
            ]
          },
          "metadata": {
            "needs_background": "light"
          }
        }
      ]
    },
    {
      "cell_type": "markdown",
      "metadata": {
        "id": "p9evWhSW-uaD"
      },
      "source": [
        "# Misclassifications"
      ]
    },
    {
      "cell_type": "code",
      "metadata": {
        "colab": {
          "base_uri": "https://localhost:8080/"
        },
        "id": "5lDNzCyw82QP",
        "outputId": "8885b25c-e25a-4415-a83b-2b3c0b1e82d5"
      },
      "source": [
        "from IPython.display import display\n",
        "for predicted in category_id_df.category_id:\n",
        "  for actual in category_id_df.category_id:\n",
        "    if predicted != actual and conf_mat[actual, predicted] >= 1:\n",
        "      print(\"'{}' predicted as '{}' : {} examples.\".format(id_to_category[actual], id_to_category[predicted], conf_mat[actual, predicted]))\n",
        "      print(df.loc[indices_test[(y_test == actual) & (y_pred == predicted)]][['text']])\n",
        "      print('')"
      ],
      "execution_count": null,
      "outputs": [
        {
          "output_type": "stream",
          "name": "stdout",
          "text": [
            "'nezafat' predicted as 'liaroobi' : 3 examples.\n",
            "                                                  text\n",
            "231  سلام . ببخشید مغازه دار های محله فاطمی خیابان ...\n",
            "92   سلام وقتتون بخیر چند وقته که سطل سر کوچه ما را...\n",
            "247  لطفا اطلاع بدید که کوچه ی شکوفه ، خیابان احمدی...\n",
            "\n",
            "'liaroobi' predicted as 'nezafat' : 1 examples.\n",
            "                                                text\n",
            "8  سلام خسته نباشید خیبان حجاب خیابان فاطمی که می...\n",
            "\n",
            "'nezafat' predicted as 'terekidegi' : 1 examples.\n",
            "                                                  text\n",
            "124  سلام روز بخیر یک لوله مربوط به آبیاری هست داخل...\n",
            "\n"
          ]
        }
      ]
    },
    {
      "cell_type": "markdown",
      "metadata": {
        "id": "H0NSCf_Z-5Tj"
      },
      "source": [
        "# Terms that are the most correlated"
      ]
    },
    {
      "cell_type": "code",
      "metadata": {
        "colab": {
          "base_uri": "https://localhost:8080/"
        },
        "id": "Shq_c4l96Jya",
        "outputId": "85f01d3c-533d-4ab8-fd98-985cfb75f3ab"
      },
      "source": [
        "model.fit(features, labels)\n",
        "N = 2\n",
        "for Label, category_id in sorted(category_to_id.items()):\n",
        "  indices = np.argsort(model.coef_[category_id])\n",
        "  feature_names = np.array(tfidf.get_feature_names())[indices]\n",
        "  unigrams = [v for v in reversed(feature_names) if len(v.split(' ')) == 1][:N]\n",
        "  bigrams = [v for v in reversed(feature_names) if len(v.split(' ')) == 2][:N]\n",
        "  print(\"# '{}':\".format(label))\n",
        "  print(\"  . Top unigrams:\\n       . {}\".format('\\n       . '.join(unigrams)))\n",
        "  print(\"  . Top bigrams:\\n       . {}\".format('\\n       . '.join(bigrams)))"
      ],
      "execution_count": null,
      "outputs": [
        {
          "output_type": "stream",
          "name": "stdout",
          "text": [
            "# 'terekidegi':\n",
            "  . Top unigrams:\n",
            "       . جوی\n",
            "       . جوب\n",
            "  . Top bigrams:\n",
            "       . جوی آب\n",
            "       . داخل جوی\n",
            "# 'terekidegi':\n",
            "  . Top unigrams:\n",
            "       . نظافت\n",
            "       . کوچه\n",
            "  . Top bigrams:\n",
            "       . نظافت کوچه\n",
            "       . کوچه تمیز\n",
            "# 'terekidegi':\n",
            "  . Top unigrams:\n",
            "       . لوله\n",
            "       . ترکیده\n",
            "  . Top bigrams:\n",
            "       . آب هدر\n",
            "       . ترکیده آب\n"
          ]
        }
      ]
    },
    {
      "cell_type": "markdown",
      "metadata": {
        "id": "mILfaYR86mxK"
      },
      "source": [
        "# Classification report"
      ]
    },
    {
      "cell_type": "code",
      "metadata": {
        "colab": {
          "base_uri": "https://localhost:8080/"
        },
        "id": "8QHO6M4U6Z-Q",
        "outputId": "7cbe919b-0365-4b48-b004-e1202d34eedc"
      },
      "source": [
        "from sklearn import metrics\n",
        "print(metrics.classification_report(y_test, y_pred, target_names=df['label'].unique()))"
      ],
      "execution_count": null,
      "outputs": [
        {
          "output_type": "stream",
          "name": "stdout",
          "text": [
            "              precision    recall  f1-score   support\n",
            "\n",
            "    liaroobi       0.90      0.96      0.93        27\n",
            "     nezafat       0.96      0.86      0.91        28\n",
            "  terekidegi       0.97      1.00      0.98        31\n",
            "\n",
            "    accuracy                           0.94        86\n",
            "   macro avg       0.94      0.94      0.94        86\n",
            "weighted avg       0.94      0.94      0.94        86\n",
            "\n"
          ]
        }
      ]
    },
    {
      "cell_type": "markdown",
      "metadata": {
        "id": "X62Fn1fqyXEd"
      },
      "source": [
        "# Prediction with text"
      ]
    },
    {
      "cell_type": "code",
      "metadata": {
        "id": "h-zPZJvvybGA"
      },
      "source": [
        "test_text = [\"سلام وقت به به خیر این محله ما چندین روز هست کسی برای جارو کردن نیامده لطفا یه نظر رو بفرستید یه جارو بزنه\"]"
      ],
      "execution_count": null,
      "outputs": []
    },
    {
      "cell_type": "code",
      "metadata": {
        "colab": {
          "base_uri": "https://localhost:8080/"
        },
        "id": "I3M5woC9yXPY",
        "outputId": "1b533995-a9bc-4021-c08c-49679ee53735"
      },
      "source": [
        "pred = model.predict(tfidf.transform(test_text).toarray())\n",
        "pred"
      ],
      "execution_count": null,
      "outputs": [
        {
          "output_type": "execute_result",
          "data": {
            "text/plain": [
              "array([1])"
            ]
          },
          "metadata": {},
          "execution_count": 40
        }
      ]
    },
    {
      "cell_type": "code",
      "metadata": {
        "colab": {
          "base_uri": "https://localhost:8080/",
          "height": 35
        },
        "id": "s5Dj90TL3lky",
        "outputId": "8d13016f-3a7c-4a03-97b5-6dc24b983075"
      },
      "source": [
        "id_to_category[pred[0]]"
      ],
      "execution_count": null,
      "outputs": [
        {
          "output_type": "execute_result",
          "data": {
            "application/vnd.google.colaboratory.intrinsic+json": {
              "type": "string"
            },
            "text/plain": [
              "'nezafat'"
            ]
          },
          "metadata": {},
          "execution_count": 41
        }
      ]
    },
    {
      "cell_type": "markdown",
      "metadata": {
        "id": "bnPgJSMtmzjr"
      },
      "source": [
        "### Get top n probabilities"
      ]
    },
    {
      "cell_type": "code",
      "metadata": {
        "colab": {
          "base_uri": "https://localhost:8080/"
        },
        "id": "-ZOWiVGfMK4z",
        "outputId": "54b66999-ca5e-4e76-bc6d-dbdd971a1e61"
      },
      "source": [
        "n = 3         # top 3 probabilities\n",
        "\n",
        "probas = model.predict_proba(tfidf.transform(test_text).toarray())\n",
        "best_n = np.flip(np.argsort(probas, axis=1)[:,-n:])\n",
        "best_n"
      ],
      "execution_count": null,
      "outputs": [
        {
          "output_type": "execute_result",
          "data": {
            "text/plain": [
              "array([[1, 0, 2]])"
            ]
          },
          "metadata": {},
          "execution_count": 42
        }
      ]
    },
    {
      "cell_type": "markdown",
      "metadata": {
        "id": "WlmOVsjOxAjA"
      },
      "source": [
        "# Saving models and features to disk"
      ]
    },
    {
      "cell_type": "code",
      "metadata": {
        "id": "ScbEJdCixIKN"
      },
      "source": [
        "import pickle"
      ],
      "execution_count": null,
      "outputs": []
    },
    {
      "cell_type": "code",
      "metadata": {
        "id": "Q61LoqDzxFvw"
      },
      "source": [
        "# save the model to disk\n",
        "filename = 'final_model.sav'\n",
        "pickle.dump(model, open(filename, 'wb'))"
      ],
      "execution_count": null,
      "outputs": []
    },
    {
      "cell_type": "code",
      "metadata": {
        "id": "akRlzAskxN7l"
      },
      "source": [
        "filename = 'tfidf.sav'\n",
        "pickle.dump(tfidf, open(filename, 'wb'))"
      ],
      "execution_count": null,
      "outputs": []
    },
    {
      "cell_type": "code",
      "metadata": {
        "id": "xEGymkc7xVLc"
      },
      "source": [
        "filename = 'id_to_category.sav'\n",
        "pickle.dump(id_to_category, open(filename, 'wb'))"
      ],
      "execution_count": null,
      "outputs": []
    }
  ]
}